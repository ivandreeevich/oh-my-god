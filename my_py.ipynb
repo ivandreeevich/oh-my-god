{
 "cells": [
  {
   "cell_type": "code",
   "execution_count": 10,
   "id": "b90448e4",
   "metadata": {},
   "outputs": [
    {
     "name": "stdout",
     "output_type": "stream",
     "text": [
      "-0.7568024953079282\n",
      "-0.6536436208636119\n",
      "-1.4104461161715403\n"
     ]
    }
   ],
   "source": [
    "import math\n",
    "\n",
    "a = int(input(\"Введите угол:\"))\n",
    "b = math.sin(a) \n",
    "c = math.cos(a)\n",
    "print(b)\n",
    "print(c)\n",
    "print(c+b)\n"
   ]
  }
 ],
 "metadata": {
  "kernelspec": {
   "display_name": "base",
   "language": "python",
   "name": "python3"
  },
  "language_info": {
   "codemirror_mode": {
    "name": "ipython",
    "version": 3
   },
   "file_extension": ".py",
   "mimetype": "text/x-python",
   "name": "python",
   "nbconvert_exporter": "python",
   "pygments_lexer": "ipython3",
   "version": "3.12.3"
  }
 },
 "nbformat": 4,
 "nbformat_minor": 5
}
